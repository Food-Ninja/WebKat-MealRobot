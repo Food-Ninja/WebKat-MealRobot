{
 "cells": [
  {
   "cell_type": "markdown",
   "id": "26f4cc82",
   "metadata": {},
   "source": [
    "## 1. Set parameters for queries\n",
    "This step will open a dropdown so you can choose parameters for the following queries. "
   ]
  },
  {
   "cell_type": "code",
   "execution_count": 1,
   "id": "93dde8a4",
   "metadata": {},
   "outputs": [
    {
     "data": {
      "application/vnd.jupyter.widget-view+json": {
       "model_id": "156a1e9a43c749b88672fc50cb2a3f09",
       "version_major": 2,
       "version_minor": 0
      },
      "text/plain": [
       "HBox(children=(Dropdown(description='Task:', options=(('Cutting Action', 'cut:CuttingAction'), ('Quartering', …"
      ]
     },
     "metadata": {},
     "output_type": "display_data"
    }
   ],
   "source": [
    "import ipywidgets as widgets\n",
    "from ipywidgets import HBox\n",
    "\n",
    "# all available parameters\n",
    "tasks = [('Cutting Action',\"cut:CuttingAction\"),\n",
    "        ('Quartering', \"cut:Quartering\"),\n",
    "        ('Julienning',\"cut:Julienning\"),\n",
    "        ('Halving',\"cut:Halving\"),\n",
    "        ('Dicing',\"soma:Dicing\"),\n",
    "        ('Cutting',\"soma:Cutting\"),\n",
    "        ('Slicing',\"soma:Slicing\"),\n",
    "        ('Snipping',\"cut:Snipping\"),\n",
    "        ('Slivering',\"cut:Slivering\"),\n",
    "        ('Sawing',\"cut:Sawing\"),\n",
    "        ('Paring',\"cut:Paring\"),\n",
    "        ('Carving',\"cut:Carving\"),\n",
    "        ('Mincing',\"cut:Mincing\"),\n",
    "        ('Cubing',\"cut:Cubing\"),\n",
    "        ('Chopping',\"cut:Chopping\")]\n",
    "\n",
    "objects=[('almond', \"obo:FOODON_00003523\"),\n",
    "        ('apple', \"obo:FOODON_03301710\"),\n",
    "        ('avocado', \"obo:FOODON_00003600\"),\n",
    "        ('banana', \"obo:FOODON_00004183\"),\n",
    "        ('bean', \"obo:FOODON_03301403\"),      \n",
    "        ('cherry', \"obo:FOODON_03301240\"),\n",
    "        ('citron', \"obo:FOODON_03306596\"),\n",
    "        ('coconut', \"obo:FOODON_00003449\"),     \n",
    "        ('cucumber', \"obo:FOODON_00003415\"),\n",
    "        ('kiwi', \"obo:FOODON_00004387\"), \n",
    "        ('kumquat', \"obo:FOODON_03306597\"),\n",
    "        ('lemon', \"obo:FOODON_03301441\"),\n",
    "        ('lime', \"obo:FOODON_00003661\"),\n",
    "        ('olive', \"obo:FOODON_03317509\"),\n",
    "        ('orange', \"obo:FOODON_03309832\"),\n",
    "        ('peach', \"obo:FOODON_03315502\"), \n",
    "        ('pepper', \"obo:FOODON_00003520\"),\n",
    "        ('pineapple', \"obo:FOODON_00003459\"),\n",
    "        ('pumpkin', \"obo:FOODON_00003486\"),\n",
    "        ('strawberry', \"obo:FOODON_00003443\"),        \n",
    "        ('squash', \"obo:FOODON_00003539\"),\n",
    "        ('tomato', \"obo:FOODON_03309927\")]\n",
    "\n",
    "task=\"\"\n",
    "tobject=\"\"\n",
    "\n",
    "# Takes a Task of the tasks list. \n",
    "# Then makes the previously initialized task variable global and assigns value of the given Task to it \n",
    "def chooseTask(Task):\n",
    "    global task\n",
    "    task=Task\n",
    "    \n",
    "# Takes an Object of the object list.\n",
    "# Then makes the previously initialized tobject variable global and assigns value of the given Object to it \n",
    "def chooseObject(Object):\n",
    "    global tobject\n",
    "    tobject=Object\n",
    "    \n",
    "# Create the dropdown widgets\n",
    "task_widget = widgets.Dropdown(options=tasks, description='Task:')\n",
    "object_widget = widgets.Dropdown(options=objects, description='Object:')\n",
    "\n",
    "# Define the event handlers\n",
    "def taskEvent(event):\n",
    "    chooseTask(event.new)\n",
    "\n",
    "def objectEvent(event):\n",
    "    chooseObject(event.new)\n",
    "    \n",
    "# Attach the event handlers to the widgets\n",
    "task_widget.observe(taskEvent, names='value')\n",
    "object_widget.observe(objectEvent, names='value')\n",
    "\n",
    "# Combine the widgets using HBox\n",
    "widgets_display = HBox([task_widget, object_widget])\n",
    "\n",
    "# Display widgets\n",
    "widgets_display\n",
    "\n",
    "# optional: set Parameters manually:\n",
    "#task = \"cut:Quartering\"\n",
    "#tobject = \"obo:FOODON_03301710\""
   ]
  },
  {
   "cell_type": "markdown",
   "id": "fd3a6a18",
   "metadata": {},
   "source": [
    "## 2. import rdflib for querying the knowledge graph for action parameters\n",
    "This step is needed to load libraries for execution of the queries"
   ]
  },
  {
   "cell_type": "code",
   "execution_count": 2,
   "id": "4e594054",
   "metadata": {},
   "outputs": [
    {
     "name": "stdout",
     "output_type": "stream",
     "text": [
      "Collecting rdflib\n",
      "  Downloading rdflib-7.0.0-py3-none-any.whl (531 kB)\n",
      "\u001b[2K     \u001b[90m━━━━━━━━━━━━━━━━━━━━━━━━━━━━━━━━━━━━━━━\u001b[0m \u001b[32m531.9/531.9 kB\u001b[0m \u001b[31m4.5 MB/s\u001b[0m eta \u001b[36m0:00:00\u001b[0m00:01\u001b[0m00:01\u001b[0m\n",
      "\u001b[?25hRequirement already satisfied: pyparsing<4,>=2.1.0 in /opt/conda/lib/python3.10/site-packages (from rdflib) (3.0.9)\n",
      "Collecting isodate<0.7.0,>=0.6.0\n",
      "  Downloading isodate-0.6.1-py2.py3-none-any.whl (41 kB)\n",
      "\u001b[2K     \u001b[90m━━━━━━━━━━━━━━━━━━━━━━━━━━━━━━━━━━━━━━━━\u001b[0m \u001b[32m41.7/41.7 kB\u001b[0m \u001b[31m3.5 MB/s\u001b[0m eta \u001b[36m0:00:00\u001b[0m\n",
      "\u001b[?25hRequirement already satisfied: six in /opt/conda/lib/python3.10/site-packages (from isodate<0.7.0,>=0.6.0->rdflib) (1.16.0)\n",
      "Installing collected packages: isodate, rdflib\n",
      "Successfully installed isodate-0.6.1 rdflib-7.0.0\n"
     ]
    }
   ],
   "source": [
    "!pip install rdflib\n",
    "# import rdflib\n",
    "from rdflib import Graph, Literal, URIRef, Namespace\n",
    "# rdflib knows about quite a few popular namespaces, like W3C ontologies, schema.org etc\n",
    "from rdflib.namespace import OWL, RDF, RDFS"
   ]
  },
  {
   "cell_type": "markdown",
   "id": "7474e1b8",
   "metadata": {},
   "source": [
    "--------------------------------------------------------------------------------------------------------------------------------\n",
    "# Now let us start with querying the knowledge graph!\n",
    "## Query 1: We can query for the tool to be used for the chosen task:\n",
    "With this query, a robot can determine which tool shall be used for the cutting task"
   ]
  },
  {
   "cell_type": "code",
   "execution_count": 13,
   "id": "9081b19a",
   "metadata": {},
   "outputs": [
    {
     "name": "stdout",
     "output_type": "stream",
     "text": [
      "http://www.ease-crc.org/ont/SOMA.owl#CuttingTool\n"
     ]
    }
   ],
   "source": [
    "g = Graph()\n",
    "\n",
    "# define prefixes to be used in the query \n",
    "SOMA = Namespace(\"http://www.ease-crc.org/ont/SOMA.owl#\")\n",
    "CUT2 = Namespace(\"http://www.ease-crc.org/ont/situation_awareness#\")\n",
    "CUT = Namespace(\"http://www.ease-crc.org/ont/food_cutting#\")\n",
    "DUL = Namespace(\"http://www.ontologydesignpatterns.org/ont/dul/DUL.owl#\")\n",
    "OBO = Namespace(\"http://purl.obolibrary.org/obo/\")\n",
    "g.bind(\"owl\", OWL)\n",
    "g.bind(\"rdfs\", RDFS)\n",
    "g.bind(\"soma\", SOMA)\n",
    "g.bind(\"cut2\", CUT2)\n",
    "g.bind(\"cut\", CUT)\n",
    "g.bind(\"dul\", DUL)\n",
    "g.bind(\"obo\", OBO)\n",
    "\n",
    "# the actual query comes here\n",
    "query = \"\"\"SELECT ?whattool WHERE {\n",
    "      SERVICE <https://api.krr.triply.cc/datasets/mkumpel/FruitCuttingKG/services/FoodCuttingKG/sparql> {\n",
    "     {%s rdfs:subClassOf ?node.\n",
    "        ?node rdf:type owl:Restriction.}\n",
    "      UNION\n",
    "      {%s rdfs:subClassOf ?class.\n",
    "        ?class rdfs:subClassOf ?node.\n",
    "        ?node rdf:type owl:Restriction.}\n",
    "      ?node owl:onProperty soma:hasDisposition.\n",
    "      ?node owl:someValuesFrom ?collection.\n",
    "      ?collection owl:intersectionOf ?node2.\n",
    "      ?node2 rdf:first cut2:Cuttability.\n",
    "      ?node2 rdf:rest ?toolnode.\n",
    "      ?toolnode rdf:rest ?collection2.\n",
    "      ?collection2 rdf:first ?tooluse.\n",
    "      ?tooluse owl:onProperty soma:affordsTrigger.\n",
    "      ?tooluse owl:allValuesFrom ?tool.\n",
    "      ?tool owl:onProperty dul:classifies.\n",
    "      ?tool owl:allValuesFrom ?whattool.} }\"\"\" % (tobject,tobject) # the input parameter for the query. For testing, you can remove % (tobject) here\n",
    "#and replace %s in the first line of the query with a variable like ?food to get all food and objects\n",
    "\n",
    "for row in g.query(query):\n",
    "    print(row.whattool)"
   ]
  },
  {
   "cell_type": "markdown",
   "id": "5b0d7137",
   "metadata": {},
   "source": [
    "# Query 2a: The robot needs to know if additional actions need to be executed:\n",
    "Additional actions like peeling or core removal can be queried here. This helps the robot to determine if it can proceed with cutting or needs to perform a different task beforehand."
   ]
  },
  {
   "cell_type": "code",
   "execution_count": 6,
   "id": "e46448b3",
   "metadata": {},
   "outputs": [
    {
     "name": "stdout",
     "output_type": "stream",
     "text": [
      "http://www.ease-crc.org/ont/food_cutting#CoreCutting\n",
      "http://www.ease-crc.org/ont/food_cutting#CoreScraping\n",
      "http://www.ease-crc.org/ont/food_cutting#Peeling\n"
     ]
    }
   ],
   "source": [
    "additionalactionquery = \"\"\"SELECT ?action WHERE {\n",
    "      SERVICE <https://api.krr.triply.cc/datasets/mkumpel/FruitCuttingKG/services/FoodCuttingKG/sparql> {  \n",
    "  %s rdfs:subClassOf ?restriction.\n",
    "  ?restriction owl:onProperty cut:hasPart.\n",
    "  ?restriction owl:someValuesFrom ?node.\n",
    "  ?node owl:intersectionOf ?intersec.\n",
    "  ?intersec rdf:first ?foodpart.\n",
    "  ?intersec rdf:rest ?node2.\n",
    "  ?node2 rdf:first ?part.\n",
    "  ?part owl:onProperty cut:hasEdibility.\n",
    "  {?part owl:someValuesFrom cut:ShouldBeAvoided.}\n",
    "  UNION\n",
    "  {?part owl:someValuesFrom cut:MustBeAvoided.}\n",
    "  ?foodpart rdfs:subClassOf ?partrestriction.\n",
    "  ?partrestriction owl:onProperty soma:hasDisposition.\n",
    "  ?partrestriction owl:someValuesFrom ?partnode.\n",
    "  ?partnode owl:intersectionOf ?intersection.\n",
    "  ?intersection rdf:first ?disposition.\n",
    "  ?intersection rdf:rest ?actionrestriction.\n",
    "  ?actionrestriction rdf:first ?actionnode.\n",
    "  ?actionnode owl:onProperty soma:affordsTask.\n",
    "  ?actionnode owl:someValuesFrom ?action.\n",
    "} }\"\"\" % (tobject) # the input parameter for the query. For testing, you can remove % (tobject) here\n",
    "#and replace %s in the first line of the query with a variable like ?food to get all food and objects\n",
    "\n",
    "for row in g.query(additionalactionquery):\n",
    "    print(row.action)"
   ]
  },
  {
   "cell_type": "markdown",
   "id": "adadb33d",
   "metadata": {},
   "source": [
    "# Query 2b: The robot needs to know if prior actions need to be executed:\n",
    "Prior actions like halving before quartering can be queried here. This helps the robot to determine how often it needs to perform motions."
   ]
  },
  {
   "cell_type": "code",
   "execution_count": 7,
   "id": "3261da0f",
   "metadata": {},
   "outputs": [],
   "source": [
    "prioractionquery = \"\"\"  SELECT ?priortask WHERE {\n",
    "      SERVICE <https://api.krr.triply.cc/datasets/mkumpel/FruitCuttingKG/services/FoodCuttingKG/sparql> {  \n",
    "  %s rdfs:subClassOf ?sub.\n",
    "  ?sub owl:onProperty cut:requiresPriorTask .\n",
    "  ?sub owl:someValuesFrom ?priortask.\n",
    "} }\"\"\" % (task)\n",
    "\n",
    "for row in g.query(prioractionquery):\n",
    "    print(row.priortask)"
   ]
  },
  {
   "cell_type": "markdown",
   "id": "0e9d0dea",
   "metadata": {},
   "source": [
    "# Query 3: The robot needs to also know the number of repetitions required for performing the task:\n",
    "It is important to determine the needed number of repetitions in order to know when a task is finished."
   ]
  },
  {
   "cell_type": "code",
   "execution_count": 8,
   "id": "30bb1400",
   "metadata": {},
   "outputs": [
    {
     "name": "stdout",
     "output_type": "stream",
     "text": [
      "more than 1\n"
     ]
    }
   ],
   "source": [
    "repetitionsquery = \"\"\"  SELECT ?rep WHERE {\n",
    "      SERVICE <https://api.krr.triply.cc/datasets/mkumpel/FruitCuttingKG/services/FoodCuttingKG/sparql> {  \n",
    "  {\n",
    "     OPTIONAL{ %s rdfs:subClassOf ?action}\n",
    "        ?action rdfs:subClassOf* ?rep_node.\n",
    "        ?rep_node owl:onProperty cut:repetitions.\n",
    "        FILTER EXISTS {\n",
    "            ?rep_node owl:hasValue ?val.}\n",
    "        BIND(\"= 1\" AS ?rep)}\n",
    "    UNION\n",
    "    {\n",
    "       OPTIONAL{ %s rdfs:subClassOf ?action }\n",
    "        ?action rdfs:subClassOf* ?rep_node.\n",
    "        ?rep_node owl:onProperty cut:repetitions.\n",
    "        FILTER EXISTS {\n",
    "            ?rep_node owl:minQualifiedCardinality ?val.}\n",
    "        BIND(\"more than 1\" AS ?rep)}} }\"\"\" % (task, task)\n",
    "\n",
    "for row in g.query(repetitionsquery):\n",
    "    print(row.rep)"
   ]
  },
  {
   "cell_type": "markdown",
   "id": "24e46ae0",
   "metadata": {},
   "source": [
    "# Query 4: The position needed for action execution:\n",
    "It is important to know where to cut an object."
   ]
  },
  {
   "cell_type": "code",
   "execution_count": 9,
   "id": "0a7e2f9a",
   "metadata": {},
   "outputs": [
    {
     "name": "stdout",
     "output_type": "stream",
     "text": [
      "http://www.ease-crc.org/ont/food_cutting#slicing_position\n"
     ]
    }
   ],
   "source": [
    "positionquery = \"\"\"  SELECT ?position WHERE {\n",
    "      SERVICE <https://api.krr.triply.cc/datasets/mkumpel/FruitCuttingKG/services/FoodCuttingKG/sparql> {  \n",
    "  OPTIONAL { %s rdfs:subClassOf ?sub.}\n",
    "  ?sub rdfs:subClassOf* ?node.\n",
    "  ?node owl:onProperty cut:affordsPosition.\n",
    "  ?node owl:someValuesFrom ?position.\n",
    "} }\"\"\" % (task)\n",
    "\n",
    "for row in g.query(positionquery):\n",
    "    print(row.position)"
   ]
  },
  {
   "cell_type": "markdown",
   "id": "1c8c588f",
   "metadata": {},
   "source": [
    "# Query 5: What object shall be cut:\n",
    "When cutting a fruit, for some subtasks the robot does not cut the whole food object but a slice, or a stripe."
   ]
  },
  {
   "cell_type": "code",
   "execution_count": 10,
   "id": "5ab5a38c",
   "metadata": {},
   "outputs": [
    {
     "name": "stdout",
     "output_type": "stream",
     "text": [
      "https://krr.triply.cc/.well-known/genid/478e1a077399e08adb4d5f381d17b2a8 http://www.ease-crc.org/ont/food_cutting#Food\n"
     ]
    }
   ],
   "source": [
    "objectquery = \"\"\"  SELECT ?object ?object2 WHERE {\n",
    "      SERVICE <https://api.krr.triply.cc/datasets/mkumpel/FruitCuttingKG/services/FoodCuttingKG/sparql> {  \n",
    "  OPTIONAL { %s rdfs:subClassOf ?a.}\n",
    "  ?a owl:intersectionOf ?obj.\n",
    "  ?obj rdf:first*/rdf:rest* ?in.\n",
    "  ?in owl:onProperty cut:hasInputObject .\n",
    "  ?in owl:someValuesFrom ?object.\n",
    "  OPTIONAL{\n",
    "    ?object owl:unionOf ?b.\n",
    "    ?b rdf:first ?object2.\n",
    "  }\n",
    "} }\"\"\" % (task)\n",
    "\n",
    "for row in g.query(objectquery):\n",
    "    print(row.object, row.object2)"
   ]
  },
  {
   "cell_type": "code",
   "execution_count": null,
   "id": "f7dd74f6",
   "metadata": {},
   "outputs": [],
   "source": []
  }
 ],
 "metadata": {
  "kernelspec": {
   "display_name": "Python 3 (ipykernel)",
   "language": "python",
   "name": "python3"
  },
  "language_info": {
   "codemirror_mode": {
    "name": "ipython",
    "version": 3
   },
   "file_extension": ".py",
   "mimetype": "text/x-python",
   "name": "python",
   "nbconvert_exporter": "python",
   "pygments_lexer": "ipython3",
   "version": "3.10.5"
  }
 },
 "nbformat": 4,
 "nbformat_minor": 5
}
